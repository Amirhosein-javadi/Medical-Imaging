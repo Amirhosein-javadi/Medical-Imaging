{
  "cells": [
    {
      "cell_type": "markdown",
      "metadata": {
        "id": "view-in-github",
        "colab_type": "text"
      },
      "source": [
        "<a href=\"https://colab.research.google.com/github/Amirhosein-javadi/Medical-Imaging/blob/main/Cancer_Detector.ipynb\" target=\"_parent\"><img src=\"https://colab.research.google.com/assets/colab-badge.svg\" alt=\"Open In Colab\"/></a>"
      ]
    },
    {
      "cell_type": "code",
      "execution_count": 1,
      "metadata": {
        "id": "YHATypf4am3s",
        "colab": {
          "base_uri": "https://localhost:8080/"
        },
        "outputId": "28fda03b-6d08-472e-f78f-03227b4ad5aa"
      },
      "outputs": [
        {
          "output_type": "stream",
          "name": "stdout",
          "text": [
            "Mounted at /content/drive\n"
          ]
        }
      ],
      "source": [
        "from google.colab import drive\n",
        "drive.mount('/content/drive')"
      ]
    },
    {
      "cell_type": "code",
      "execution_count": 2,
      "metadata": {
        "id": "LAV9JTcIbFyd"
      },
      "outputs": [],
      "source": [
        "with open('/content/drive/MyDrive/MedicalImage-Team/LiTS17/Info.txt') as f:\n",
        "    lines = f.readlines()"
      ]
    },
    {
      "cell_type": "code",
      "execution_count": 3,
      "metadata": {
        "id": "dv4_LN7wbHfN"
      },
      "outputs": [],
      "source": [
        "layer_properties = []\n",
        "\n",
        "for i in range(2,len(lines)):\n",
        "    line = lines[i]\n",
        "    line_split = line.split()\n",
        "    dana_num = int(line_split[0])\n",
        "    first_layer = int(line_split[5][1:-1]) \n",
        "    last_later = int(line_split[-1][0:-1])\n",
        "    data_dict = {\"dana_num\" : dana_num,\n",
        "                \"first_layer\" : first_layer,\n",
        "                \"last_layer\" : last_later\n",
        "                }\n",
        "    layer_properties.append(data_dict)\n",
        "\n",
        "layer_properties;"
      ]
    },
    {
      "cell_type": "markdown",
      "metadata": {
        "id": "J--q8IaT28LP"
      },
      "source": [
        "## Args"
      ]
    },
    {
      "cell_type": "code",
      "execution_count": 4,
      "metadata": {
        "id": "KY3KFqZGMl_B"
      },
      "outputs": [],
      "source": [
        "class Args():\n",
        "    def __init__(self):\n",
        "        \n",
        "        self.lr = 0.001\n",
        "        self.epochs = 50\n",
        "        self.batch_size = 16\n",
        "        \n",
        "        self.alpha = 0.5 #BCE coeff\n",
        "        self.beta = 0.5 #Dice coeff\n",
        "        \n",
        "        self.smooth_weight = 0.01 \n",
        "        self.seg_weight = 0.5 \n",
        "        self.loss = 'mse' \n",
        "        self.load_model = None\n",
        "        self.initial_epoch = 0 \n",
        "        self.int_steps = 7 \n",
        "        self.int_downsize = 2 \n",
        "        self.model_dir = './trained-models/torch/1/'\n",
        "\n",
        "args = Args()"
      ]
    },
    {
      "cell_type": "markdown",
      "metadata": {
        "id": "cDLaZwkaoSE7"
      },
      "source": [
        "# Import"
      ]
    },
    {
      "cell_type": "code",
      "execution_count": 5,
      "metadata": {
        "id": "Z2VgTzWzoTl6"
      },
      "outputs": [],
      "source": [
        "import torch\n",
        "import torch.nn as nn\n",
        "import torch.nn.functional as f"
      ]
    },
    {
      "cell_type": "code",
      "execution_count": 6,
      "metadata": {
        "id": "wOyMkBrDtA-L",
        "colab": {
          "base_uri": "https://localhost:8080/"
        },
        "outputId": "ba566ff3-4dbb-4b5e-a1b6-dc5b7b3f6f7b"
      },
      "outputs": [
        {
          "output_type": "execute_result",
          "data": {
            "text/plain": [
              "device(type='cuda')"
            ]
          },
          "metadata": {},
          "execution_count": 6
        }
      ],
      "source": [
        "device = torch.device('cuda' if torch.cuda.is_available() else 'cpu')\n",
        "device"
      ]
    },
    {
      "cell_type": "markdown",
      "metadata": {
        "id": "v8bgMzxSbnEF"
      },
      "source": [
        "# Model"
      ]
    },
    {
      "cell_type": "code",
      "execution_count": 7,
      "metadata": {
        "id": "4CO9djy1HPFV"
      },
      "outputs": [],
      "source": [
        "class Model(nn.Module):\n",
        "  def __init__(self):\n",
        "        super().__init__()\n",
        "\n",
        "        self.group1 = nn.Sequential(\n",
        "            nn.Conv3d(1, 10, kernel_size=(2,2,2), padding=(1,1,1)),\n",
        "            nn.BatchNorm3d(10),\n",
        "            nn.ReLU(),\n",
        "            nn.MaxPool3d(kernel_size=(2, 2, 2), stride=(1, 2, 2))\n",
        "            )\n",
        "        \n",
        "        self.group2 = nn.Sequential(\n",
        "            nn.Conv3d(10, 40, kernel_size=(2,4,4), padding=(1,2,2), stride=(1, 2, 2)),\n",
        "            nn.BatchNorm3d(40),\n",
        "            nn.ReLU(),\n",
        "            nn.MaxPool3d(kernel_size=(2, 2, 2), stride=(1, 2, 2)))\n",
        "        \n",
        "        self.group3 = nn.Sequential(\n",
        "            nn.Conv3d(40, 20, kernel_size=(2,4,4), padding=(1,2,2), stride=(1, 2, 2)),\n",
        "            nn.BatchNorm3d(20),\n",
        "            nn.ReLU(),\n",
        "            nn.MaxPool3d(kernel_size=(2, 2, 2), stride=(1, 2, 2)))\n",
        "        \n",
        "        self.group4 = nn.Sequential(\n",
        "            nn.Conv3d(20, 10, kernel_size=(2,4,4), padding=(1,2,2), stride=(1, 2, 2)),\n",
        "            nn.BatchNorm3d(10),\n",
        "            nn.ReLU(),\n",
        "            nn.MaxPool3d(kernel_size=(2, 2, 2), stride=(1, 2, 2)))\n",
        "        \n",
        "        self.linear1 = nn.Linear(in_features=1200,out_features=30,bias=False)\n",
        "\n",
        "  def forward(self, x):\n",
        "        x = self.group1(x)  # (k,512,512) -> (k,256,256)\n",
        "        x = self.group2(x)  # (k,256,256) -> (k,64,64)\n",
        "        x = self.group3(x)  # (k,64,64)   -> (k,16,16)\n",
        "        x = self.group4(x)  # (k,16,16)   -> (k,4,4)\n",
        "        x = torch.flatten(x)\n",
        "        x = self.linear1(x)\n",
        "        x = torch.sigmoid(x)\n",
        "        return x"
      ]
    },
    {
      "cell_type": "code",
      "source": [
        "class Model_NoSigmoid(nn.Module):\n",
        "  def __init__(self):\n",
        "        super().__init__()\n",
        "\n",
        "        self.group1 = nn.Sequential(\n",
        "            nn.Conv3d(1, 10, kernel_size=(2,2,2), padding=(1,1,1)),\n",
        "            nn.BatchNorm3d(10),\n",
        "            nn.ReLU(),\n",
        "            nn.MaxPool3d(kernel_size=(2, 2, 2), stride=(1, 2, 2))\n",
        "            )\n",
        "        \n",
        "        self.group2 = nn.Sequential(\n",
        "            nn.Conv3d(10, 40, kernel_size=(2,4,4), padding=(1,2,2), stride=(1, 2, 2)),\n",
        "            nn.BatchNorm3d(40),\n",
        "            nn.ReLU(),\n",
        "            nn.MaxPool3d(kernel_size=(2, 2, 2), stride=(1, 2, 2)))\n",
        "        \n",
        "        self.group3 = nn.Sequential(\n",
        "            nn.Conv3d(40, 20, kernel_size=(2,4,4), padding=(1,2,2), stride=(1, 2, 2)),\n",
        "            nn.BatchNorm3d(20),\n",
        "            nn.ReLU(),\n",
        "            nn.MaxPool3d(kernel_size=(2, 2, 2), stride=(1, 2, 2)))\n",
        "        \n",
        "        self.group4 = nn.Sequential(\n",
        "            nn.Conv3d(20, 10, kernel_size=(2,4,4), padding=(1,2,2), stride=(1, 2, 2)),\n",
        "            nn.BatchNorm3d(10),\n",
        "            nn.ReLU(),\n",
        "            nn.MaxPool3d(kernel_size=(2, 2, 2), stride=(1, 2, 2)))\n",
        "        \n",
        "        self.linear1 = nn.Linear(in_features=1200,out_features=30,bias=False)\n",
        "\n",
        "  def forward(self, x):\n",
        "        x = self.group1(x)  # (k,512,512) -> (k,256,256)\n",
        "        x = self.group2(x)  # (k,256,256) -> (k,64,64)\n",
        "        x = self.group3(x)  # (k,64,64)   -> (k,16,16)\n",
        "        x = self.group4(x)  # (k,16,16)   -> (k,4,4)\n",
        "        x = torch.flatten(x)\n",
        "        x = self.linear1(x)\n",
        "        #x = torch.sigmoid(x)\n",
        "        return x"
      ],
      "metadata": {
        "id": "KQ1RgNygs9sF"
      },
      "execution_count": 8,
      "outputs": []
    },
    {
      "cell_type": "code",
      "execution_count": 9,
      "metadata": {
        "colab": {
          "base_uri": "https://localhost:8080/"
        },
        "id": "vTF6FxrF1WJp",
        "outputId": "1c2b07d8-5bf3-4780-82e6-be17fcb91a30"
      },
      "outputs": [
        {
          "output_type": "execute_result",
          "data": {
            "text/plain": [
              "torch.Size([30])"
            ]
          },
          "metadata": {},
          "execution_count": 9
        }
      ],
      "source": [
        "model = Model()\n",
        "x = torch.rand(1,1,30,256,256)\n",
        "y = model(x)\n",
        "y.shape"
      ]
    },
    {
      "cell_type": "code",
      "execution_count": 10,
      "metadata": {
        "colab": {
          "base_uri": "https://localhost:8080/"
        },
        "id": "IViTCUoOst-0",
        "outputId": "f674bfe3-1f7b-43e7-93f2-5bab1b00673c"
      },
      "outputs": [
        {
          "output_type": "execute_result",
          "data": {
            "text/plain": [
              "tensor([0.3932, 0.4514, 0.6202, 0.6581, 0.3647, 0.0821, 0.7254, 0.5164, 0.6646,\n",
              "        0.7753, 0.4764, 0.6011, 0.6818, 0.4423, 0.4273, 0.3301, 0.3760, 0.3943,\n",
              "        0.5310, 0.3987, 0.6106, 0.4772, 0.1452, 0.4947, 0.6485, 0.3440, 0.4402,\n",
              "        0.4317, 0.7501, 0.3736], grad_fn=<SigmoidBackward0>)"
            ]
          },
          "metadata": {},
          "execution_count": 10
        }
      ],
      "source": [
        "y"
      ]
    },
    {
      "cell_type": "markdown",
      "metadata": {
        "id": "weoNtrQ8wCJU"
      },
      "source": [
        "# Dataloader"
      ]
    },
    {
      "cell_type": "code",
      "execution_count": 11,
      "metadata": {
        "id": "pRjbQUqxwCpR"
      },
      "outputs": [],
      "source": [
        "from torch.utils.data import Dataset, DataLoader\n",
        "import numpy as np \n",
        "import nibabel as nib\n",
        "import glob\n",
        "import cv2\n",
        "\n",
        "class MyCustomDataset(Dataset):\n",
        "    def __init__(self, I_path,k):\n",
        "        self.image_path = I_path\n",
        "        self.width = 256\n",
        "        self.height = 256\n",
        "        #self.label_path = L_path\n",
        "        self.k = k\n",
        "\n",
        "    def __len__(self):\n",
        "        return len(self.image_path) # Return the size of dataset\n",
        "\n",
        "    def __getitem__(self, idx): # Get an index\n",
        "\n",
        "        k = self.k #30\n",
        "        image_list = []\n",
        "        label_list = []\n",
        "\n",
        "        data_number = int(self.image_path[idx][62:-4])\n",
        "        data_char = layer_properties[data_number]\n",
        "        first_layer = data_char[\"first_layer\"]\n",
        "        last_layer = data_char[\"last_layer\"]\n",
        "\n",
        "        image_data = np.asarray(nib.load(self.image_path[idx]).dataobj) # Convert the .nii object to array\n",
        "        label_data = np.zeros((image_data.shape[2]))\n",
        "        label_data[first_layer:last_layer+1] = 1\n",
        "\n",
        "        for j in range(0,image_data.shape[2]-k,k): # image_data.shape[2]-1 to stop creating data with hight == 1\n",
        "            image = image_data[:,:,j:j+k].astype('float32')  # Slice  the image\n",
        "            image[image < -200] = -200\n",
        "            image[image > 250] = 250\n",
        "            image = cv2.resize(image, (self.width, self.height))\n",
        "            image = cv2.normalize(image, None, 0, 1, cv2.NORM_MINMAX)\n",
        "            image = torch.from_numpy(image)\n",
        "            image = torch.unsqueeze(image,0)\n",
        "            image = torch.permute(image, (0, 3, 1, 2))  # (1,512,512,k) --> (1,k,512,512)\n",
        "\n",
        "            label = label_data[j:j+k].astype('float32') # Slice  the label\n",
        "            label = torch.from_numpy(label)\n",
        "\n",
        "\n",
        "            image_list.append(image) # Add to the list(Dataset) \n",
        "            label_list.append(label) # Add to the list(Dataset)\n",
        "      \n",
        "        return image_list,label_list"
      ]
    },
    {
      "cell_type": "code",
      "execution_count": 12,
      "metadata": {
        "id": "GDYm3lcfw_Sb"
      },
      "outputs": [],
      "source": [
        "Train_size = 100\n",
        "Validation_size = 30"
      ]
    },
    {
      "cell_type": "code",
      "execution_count": 13,
      "metadata": {
        "colab": {
          "base_uri": "https://localhost:8080/"
        },
        "id": "7aUgjIg4xAg6",
        "outputId": "17439f6a-bba8-44a3-f735-00e0435dc5e5"
      },
      "outputs": [
        {
          "output_type": "stream",
          "name": "stdout",
          "text": [
            "100 30\n"
          ]
        }
      ],
      "source": [
        "I_path_1 = ['/content/drive/MyDrive/LITS Challenge/Training Batch 1/volume-'+ str(i)+'.nii' for i in range(28)]\n",
        "I_path_2 = ['/content/drive/MyDrive/LITS Challenge/Training Batch 2/volume-'+ str(i)+'.nii' for i in range(28,131)]\n",
        "I_path = I_path_1 + I_path_2\n",
        "\n",
        "I_path_Train = I_path[:Train_size]\n",
        "I_path_Val = I_path[Train_size:Train_size+Validation_size]\n",
        "\n",
        "print(len(I_path_Train), len(I_path_Val))"
      ]
    },
    {
      "cell_type": "code",
      "execution_count": 14,
      "metadata": {
        "id": "N1PgXcPpxHYJ"
      },
      "outputs": [],
      "source": [
        "k = 30\n",
        "\n",
        "MyDataset_Train = MyCustomDataset(I_path_Train,k)\n",
        "My_Dataloader_Train = DataLoader(MyDataset_Train, batch_size=1, shuffle=True, num_workers=0)\n",
        "\n",
        "MyDataset_Val = MyCustomDataset(I_path_Val,k)\n",
        "My_Dataloader_Val = DataLoader(MyDataset_Val, batch_size=1, shuffle=True, num_workers=0)\n",
        "\n",
        "My_Dataloader = {\n",
        "    'train' : My_Dataloader_Train,\n",
        "    'val'   : My_Dataloader_Val\n",
        "}"
      ]
    },
    {
      "cell_type": "code",
      "source": [
        "model = Model_NoSigmoid().to(device)"
      ],
      "metadata": {
        "id": "NXFaiFiUSPOs"
      },
      "execution_count": 15,
      "outputs": []
    },
    {
      "cell_type": "code",
      "execution_count": 16,
      "metadata": {
        "id": "YsKiaPTJ2w84",
        "colab": {
          "base_uri": "https://localhost:8080/"
        },
        "outputId": "5226fc36-f48d-46d8-d896-6b777b4cc322"
      },
      "outputs": [
        {
          "output_type": "execute_result",
          "data": {
            "text/plain": [
              "<All keys matched successfully>"
            ]
          },
          "metadata": {},
          "execution_count": 16
        }
      ],
      "source": [
        "PATH = \"/content/drive/MyDrive/MedicalImage-Team/LiTS17/best_Detector.pth\"\n",
        "model.load_state_dict(torch.load(PATH))"
      ]
    },
    {
      "cell_type": "code",
      "source": [
        "## Resnet3d is also a good Net\n",
        "optimizer = torch.optim.Adam(model.parameters(), lr=args.lr)\n",
        "scheduler = torch.optim.lr_scheduler.ReduceLROnPlateau(optimizer, factor=0.5, patience=10, threshold=1e-8, verbose=True)\n",
        "#loss_func = nn.MSELoss()\n",
        "# BCE\n",
        "# BCELosswithlogit\n",
        "loss_func = nn.BCEWithLogitsLoss()"
      ],
      "metadata": {
        "id": "B-VdpZRYmkAb"
      },
      "execution_count": 17,
      "outputs": []
    },
    {
      "cell_type": "code",
      "execution_count": 20,
      "metadata": {
        "id": "GsQP6QL9tSC5"
      },
      "outputs": [],
      "source": [
        "num_epochs = 10\n",
        "best_loss = 0.3404\n",
        "best_epoch = 0\n",
        "train_result = []\n",
        "val_result = []\n",
        "\n",
        "Thrshold =  0 # Sigmoid --> 0.5"
      ]
    },
    {
      "cell_type": "code",
      "source": [
        "def update_confusion_matrix(confusion_matrix, y_pred, y, Thrshold):\n",
        "    y_pred= y_pred.cpu().detach().numpy()\n",
        "    y_pred = np.int32((y_pred>Thrshold)*1)\n",
        "    y = np.int32(y.cpu().detach().numpy()[0])\n",
        "    n = len(y)\n",
        "    for i in range(n):\n",
        "        confusion_matrix[y,y_pred] += 1\n",
        "    return confusion_matrix\n",
        "\n",
        "def Performance_Estimator(confusion_matrix):\n",
        "    NumberofData = np.sum(confusion_matrix)          \n",
        "    accuracy = (confusion_matrix[0,0] + confusion_matrix[1,1]) / NumberofData\n",
        "    precision = confusion_matrix[1,1] / (confusion_matrix[1,1] + confusion_matrix[0,1])\n",
        "    recall = confusion_matrix[1,1] / (confusion_matrix[1,1] + confusion_matrix[1,0])\n",
        "    f1 = 2 * precision * recall / (precision + recall)\n",
        "\n",
        "    return accuracy, precision, recall, f1"
      ],
      "metadata": {
        "id": "FFkIwou8ftRv"
      },
      "execution_count": 21,
      "outputs": []
    },
    {
      "cell_type": "markdown",
      "source": [
        "##### No gradient accumulation"
      ],
      "metadata": {
        "id": "wylB6rqKSXh8"
      }
    },
    {
      "cell_type": "code",
      "execution_count": null,
      "metadata": {
        "id": "mgH2FPvi2rXI"
      },
      "outputs": [],
      "source": [
        "for epoch in range(num_epochs):\n",
        "    print('Epoch {}/{}'.format(epoch, num_epochs - 1))\n",
        "    print('-' * 10) \n",
        "    confusion_matrix_train = np.zeros((2,2))\n",
        "    confusion_matrix_val = np.zeros((2,2))\n",
        "    for phase in ['train','val']:\n",
        "        if phase == \"train\":\n",
        "            model.train() # Set model to training mode\n",
        "        else:\n",
        "            model.eval()  # Set model to evaluate mode\n",
        "\n",
        "        running_loss = 0.0\n",
        "        slice_num = 0\n",
        "        # Iterate over data\n",
        "                \n",
        "        for batch in My_Dataloader[phase]:\n",
        "            image_list, label_list = batch\n",
        "            for counter in range(len(image_list)):\n",
        "                image = image_list[counter]\n",
        "                label = label_list[counter]\n",
        "                image = image.to(device)\n",
        "                label = label.to(device)\n",
        "            \n",
        "                optimizer.zero_grad()\n",
        "\n",
        "                # forward\n",
        "                with torch.set_grad_enabled(True):\n",
        "                    output_model = model(image.float())\n",
        "                    loss = loss_func(output_model.float() , label.float().squeeze()) \n",
        "\n",
        "                    # mean loss for some batch\n",
        "\n",
        "                if phase == 'train':\n",
        "                    loss.backward()\n",
        "                    optimizer.step() \n",
        "                    confusion_matrix_train = update_confusion_matrix(confusion_matrix_train, output_model, label, Thrshold) \n",
        "                if phase == 'val':\n",
        "                    confusion_matrix_val = update_confusion_matrix(confusion_matrix_val, output_model, label, Thrshold) \n",
        "                \n",
        "                running_loss += loss.item() * image.shape[0]  # image.shape[0] = 1\n",
        "                \n",
        "                slice_num += 1\n",
        "\n",
        "        if phase == \"train\":\n",
        "            epoch_loss = running_loss / slice_num\n",
        "            accuracy, precision, recall, f1 = Performance_Estimator(confusion_matrix_train)\n",
        "\n",
        "        if phase == \"val\":\n",
        "            epoch_loss = running_loss / slice_num\n",
        "            scheduler.step(epoch_loss)\n",
        "            accuracy, precision, recall, f1 = Performance_Estimator(confusion_matrix_val)\n",
        "            \n",
        "        if phase == \"val\" and (epoch_loss) < best_loss:\n",
        "            best_loss = epoch_loss\n",
        "            best_model = model\n",
        "            best_epoch = epoch\n",
        "            torch.save(best_model.state_dict(), \"/content/drive/MyDrive/MedicalImage-Team/LiTS17/best_Detector.pth\")   \n",
        "            print('saved')\n",
        "\n",
        "        print('Phase: {}, accuracy: {:.4f}, precision: {:.4f}, recall: {:.4f}, f1: {:.4f}, Loss: {:.4f}, Best Loss: {:.4f}, Best Epoch: {:.4f}'\n",
        "              .format(phase, accuracy, precision, recall, f1, epoch_loss, best_loss , best_epoch))\n"
      ]
    },
    {
      "cell_type": "markdown",
      "source": [
        "##### gradient accumulation"
      ],
      "metadata": {
        "id": "FqaQ7RX0Sfh5"
      }
    },
    {
      "cell_type": "code",
      "source": [
        "for epoch in range(num_epochs):\n",
        "    print('Epoch {}/{}'.format(epoch, num_epochs - 1))\n",
        "    print('-' * 10) \n",
        "    confusion_matrix_train = np.zeros((2,2))\n",
        "    confusion_matrix_val = np.zeros((2,2))\n",
        "    for phase in ['train','val']:\n",
        "        if phase == \"train\":\n",
        "            model.train() # Set model to training mode\n",
        "        else:\n",
        "            model.eval()  # Set model to evaluate mode\n",
        "\n",
        "        running_loss = 0.0\n",
        "        slice_num = 0\n",
        "        # Iterate over data\n",
        "                \n",
        "        for batch in My_Dataloader[phase]:\n",
        "            image_list, label_list = batch\n",
        "            for counter in range(len(image_list)):\n",
        "                image = image_list[counter]\n",
        "                label = label_list[counter]\n",
        "                image = image.to(device)\n",
        "                label = label.to(device)\n",
        "\n",
        "                # forward\n",
        "                with torch.set_grad_enabled(True):\n",
        "                    output_model = model(image.float())\n",
        "                    loss = loss_func(output_model.float() , label.float().squeeze())\n",
        "                    # mean loss for some batch\n",
        "\n",
        "                if phase == 'train':\n",
        "                    loss /= len(image_list)\n",
        "                    loss.backward()\n",
        "                    confusion_matrix_train = update_confusion_matrix(confusion_matrix_train, output_model, label, Thrshold) \n",
        "                if phase == 'val':\n",
        "                    confusion_matrix_val = update_confusion_matrix(confusion_matrix_val, output_model, label, Thrshold) \n",
        "                \n",
        "                running_loss += loss.item() * image.shape[0]  # image.shape[0] = 1\n",
        "                \n",
        "                slice_num += 1\n",
        "\n",
        "            optimizer.step() \n",
        "            optimizer.zero_grad()\n",
        "\n",
        "        if phase == \"train\":\n",
        "            epoch_loss = running_loss / slice_num\n",
        "            accuracy, precision, recall, f1 = Performance_Estimator(confusion_matrix_train)\n",
        "\n",
        "        if phase == \"val\":\n",
        "            epoch_loss = running_loss / slice_num\n",
        "            scheduler.step(epoch_loss)\n",
        "            accuracy, precision, recall, f1 = Performance_Estimator(confusion_matrix_val)\n",
        "            \n",
        "        if phase == \"val\" and (epoch_loss) < best_loss:\n",
        "            best_loss = epoch_loss\n",
        "            best_model = model\n",
        "            best_epoch = epoch\n",
        "            torch.save(best_model.state_dict(), \"/content/drive/MyDrive/MedicalImage-Team/LiTS17/best_Detector.pth\")   \n",
        "            print('saved')\n",
        "\n",
        "        print('Phase: {}, accuracy: {:.4f}, precision: {:.4f}, recall: {:.4f}, f1: {:.4f}, Loss: {:.4f}, Best Loss: {:.4f}, Best Epoch: {:.4f}'\n",
        "              .format(phase, accuracy, precision, recall, f1, epoch_loss, best_loss , best_epoch))\n"
      ],
      "metadata": {
        "colab": {
          "base_uri": "https://localhost:8080/"
        },
        "id": "SIdAta9DJFq5",
        "outputId": "e30e237b-98b4-4f87-dd4d-50048a0906f8"
      },
      "execution_count": null,
      "outputs": [
        {
          "output_type": "stream",
          "name": "stdout",
          "text": [
            "Epoch 0/9\n",
            "----------\n",
            "Phase: train, accuracy: 0.8055, precision: 0.7414, recall: 0.7438, f1: 0.7426, Loss: 0.0163, Best Loss: 0.3404, Best Epoch: 0.0000\n",
            "Phase: val, accuracy: 0.6556, precision: 0.4455, recall: 0.8755, f1: 0.5906, Loss: 0.6452, Best Loss: 0.3404, Best Epoch: 0.0000\n",
            "Epoch 1/9\n",
            "----------\n",
            "Phase: train, accuracy: 0.8213, precision: 0.7765, recall: 0.7512, f1: 0.7636, Loss: 0.0138, Best Loss: 0.3404, Best Epoch: 0.0000\n",
            "saved\n",
            "Phase: val, accuracy: 0.7740, precision: 0.7460, recall: 0.5873, f1: 0.6572, Loss: 0.2879, Best Loss: 0.2879, Best Epoch: 1.0000\n",
            "Epoch 2/9\n",
            "----------\n",
            "Phase: train, accuracy: 0.8282, precision: 0.7750, recall: 0.7659, f1: 0.7704, Loss: 0.0122, Best Loss: 0.2879, Best Epoch: 1.0000\n",
            "Phase: val, accuracy: 0.5752, precision: 0.3460, recall: 0.9190, f1: 0.5028, Loss: 0.9165, Best Loss: 0.2879, Best Epoch: 1.0000\n",
            "Epoch 3/9\n",
            "----------\n",
            "Phase: train, accuracy: 0.8301, precision: 0.7732, recall: 0.7770, f1: 0.7751, Loss: 0.0110, Best Loss: 0.2879, Best Epoch: 1.0000\n",
            "Phase: val, accuracy: 0.6972, precision: 0.4722, recall: 0.9020, f1: 0.6199, Loss: 0.4938, Best Loss: 0.2879, Best Epoch: 1.0000\n",
            "Epoch 4/9\n",
            "----------\n",
            "Phase: train, accuracy: 0.8390, precision: 0.7796, recall: 0.7980, f1: 0.7887, Loss: 0.0099, Best Loss: 0.2879, Best Epoch: 1.0000\n",
            "Phase: val, accuracy: 0.7586, precision: 0.8415, recall: 0.4481, f1: 0.5847, Loss: 0.5522, Best Loss: 0.2879, Best Epoch: 1.0000\n",
            "Epoch 5/9\n",
            "----------\n",
            "Phase: train, accuracy: 0.8361, precision: 0.7930, recall: 0.7761, f1: 0.7845, Loss: 0.0101, Best Loss: 0.2879, Best Epoch: 1.0000\n",
            "Phase: val, accuracy: 0.7644, precision: 0.5873, recall: 0.7823, f1: 0.6709, Loss: 0.2915, Best Loss: 0.2879, Best Epoch: 1.0000\n",
            "Epoch 6/9\n",
            "----------\n",
            "Phase: train, accuracy: 0.8675, precision: 0.8368, recall: 0.8114, f1: 0.8239, Loss: 0.0062, Best Loss: 0.2879, Best Epoch: 1.0000\n",
            "Phase: val, accuracy: 0.8012, precision: 0.7228, recall: 0.6772, f1: 0.6993, Loss: 0.2922, Best Loss: 0.2879, Best Epoch: 1.0000\n",
            "Epoch 7/9\n",
            "----------\n",
            "Phase: train, accuracy: 0.8799, precision: 0.8368, recall: 0.8440, f1: 0.8404, Loss: 0.0045, Best Loss: 0.2879, Best Epoch: 1.0000\n",
            "Phase: val, accuracy: 0.7838, precision: 0.8462, recall: 0.5399, f1: 0.6592, Loss: 0.4711, Best Loss: 0.2879, Best Epoch: 1.0000\n",
            "Epoch 8/9\n",
            "----------\n",
            "Phase: train, accuracy: 0.8759, precision: 0.8420, recall: 0.8291, f1: 0.8355, Loss: 0.0046, Best Loss: 0.2879, Best Epoch: 1.0000\n",
            "saved\n",
            "Phase: val, accuracy: 0.8019, precision: 0.6844, recall: 0.7357, f1: 0.7091, Loss: 0.2530, Best Loss: 0.2530, Best Epoch: 8.0000\n",
            "Epoch 9/9\n",
            "----------\n"
          ]
        }
      ]
    },
    {
      "cell_type": "code",
      "execution_count": null,
      "metadata": {
        "colab": {
          "base_uri": "https://localhost:8080/"
        },
        "id": "MR_Ulejgsigo",
        "outputId": "ea0107ed-c00d-4bf2-fe10-214f1c8ebf49"
      },
      "outputs": [
        {
          "output_type": "execute_result",
          "data": {
            "text/plain": [
              "(torch.Size([30]), torch.Size([1, 30]))"
            ]
          },
          "metadata": {},
          "execution_count": 34
        }
      ],
      "source": [
        "output_model.float().shape, label.shape"
      ]
    },
    {
      "cell_type": "code",
      "execution_count": null,
      "metadata": {
        "colab": {
          "base_uri": "https://localhost:8080/"
        },
        "id": "e8ktrpuAJJod",
        "outputId": "94ebc9f3-ef45-42d9-f753-b0a39b2a9e18"
      },
      "outputs": [
        {
          "output_type": "execute_result",
          "data": {
            "text/plain": [
              "torch.Size([1, 1, 30, 256, 256])"
            ]
          },
          "metadata": {},
          "execution_count": 35
        }
      ],
      "source": [
        "image.shape"
      ]
    },
    {
      "cell_type": "code",
      "execution_count": null,
      "metadata": {
        "colab": {
          "base_uri": "https://localhost:8080/"
        },
        "id": "XDjyxtiluxtA",
        "outputId": "fc1889a6-b63b-44ae-e278-a02bb55a728d"
      },
      "outputs": [
        {
          "output_type": "execute_result",
          "data": {
            "text/plain": [
              "1"
            ]
          },
          "metadata": {},
          "execution_count": 36
        }
      ],
      "source": [
        "image.shape[0]"
      ]
    },
    {
      "cell_type": "code",
      "execution_count": null,
      "metadata": {
        "colab": {
          "base_uri": "https://localhost:8080/"
        },
        "id": "oEJzvkh_brBI",
        "outputId": "f17ccc04-9c0e-40f0-dc07-eba63fd6241d"
      },
      "outputs": [
        {
          "output_type": "execute_result",
          "data": {
            "text/plain": [
              "(tensor([7.0417e-06, 2.1013e-06, 1.8134e-06, 9.7120e-07, 3.5216e-07, 5.0031e-08,\n",
              "         1.2758e-07, 5.6598e-09, 2.5006e-09, 2.8088e-10, 1.2989e-09, 1.1319e-09,\n",
              "         5.2735e-10, 1.3549e-09, 1.8664e-10, 6.7358e-10, 2.8173e-10, 4.0469e-09,\n",
              "         5.4651e-09, 7.2120e-11, 5.0766e-12, 1.3384e-11, 8.8302e-12, 8.4846e-13,\n",
              "         2.0914e-11, 9.5695e-12, 5.7002e-11, 3.5340e-10, 2.4921e-10, 5.6907e-10],\n",
              "        device='cuda:0', grad_fn=<SigmoidBackward0>),\n",
              " tensor([[0., 0., 0., 0., 0., 0., 0., 0., 0., 0., 0., 0., 0., 0., 0., 0., 0., 0., 0., 0., 0., 0., 0., 0.,\n",
              "          0., 0., 0., 0., 0., 0.]], device='cuda:0'))"
            ]
          },
          "metadata": {},
          "execution_count": 37
        }
      ],
      "source": [
        "output_model,label"
      ]
    },
    {
      "cell_type": "markdown",
      "source": [
        "## Test"
      ],
      "metadata": {
        "id": "MCCnPNeIhd-O"
      }
    },
    {
      "cell_type": "code",
      "source": [
        "batch = next(iter(My_Dataloader_Val))\n",
        "image_list, label_list = batch"
      ],
      "metadata": {
        "id": "7uFVB_PWhult"
      },
      "execution_count": null,
      "outputs": []
    },
    {
      "cell_type": "code",
      "source": [
        "for counter in range(len(image_list)):\n",
        "    image = image_list[counter]\n",
        "    label = label_list[counter]\n",
        "    image = image.to(device)\n",
        "    label = label.to(device)\n",
        "    output_model = model(image.float())\n",
        "    print(output_model) \n",
        "    print(label) \n",
        "    print('-' * 10) \n"
      ],
      "metadata": {
        "colab": {
          "base_uri": "https://localhost:8080/"
        },
        "id": "ZGijhWYnb3hE",
        "outputId": "98c337e7-10c4-4544-ae37-b8eb0fd7d994"
      },
      "execution_count": null,
      "outputs": [
        {
          "output_type": "stream",
          "name": "stdout",
          "text": [
            "tensor([-6.1041, -6.6259, -6.6980, -6.5294, -7.3888, -7.1989, -7.0845, -6.9538,\n",
            "        -7.8963, -7.7780, -7.8727, -7.9195, -7.5012, -7.8508, -7.7819, -8.1136,\n",
            "        -8.1386, -8.2196, -7.9393, -7.5630, -7.9065, -7.6223, -7.1433, -7.2938,\n",
            "        -7.0257, -5.9183, -5.9990, -6.0047, -5.9306, -5.3194], device='cuda:0',\n",
            "       grad_fn=<SqueezeBackward3>)\n",
            "tensor([[0., 0., 0., 0., 0., 0., 0., 0., 0., 0., 0., 0., 0., 0., 0., 0., 0., 0., 0., 0., 0., 0., 0., 0.,\n",
            "         0., 0., 0., 0., 0., 0.]], device='cuda:0')\n",
            "----------\n",
            "tensor([-4.5878, -4.9318, -4.9537, -5.1097, -5.7834, -5.5699, -5.2615, -5.5446,\n",
            "        -6.1856, -6.1462, -5.5344, -6.2756, -5.8245, -6.2592, -5.9901, -6.2435,\n",
            "        -6.4502, -6.3363, -6.0096, -5.5280, -5.5226, -5.5426, -4.9361, -5.1678,\n",
            "        -4.6858, -3.9350, -4.1021, -4.2774, -4.1872, -3.7078], device='cuda:0',\n",
            "       grad_fn=<SqueezeBackward3>)\n",
            "tensor([[0., 0., 0., 0., 0., 0., 0., 0., 0., 0., 0., 0., 0., 0., 0., 0., 0., 0., 0., 0., 0., 0., 0., 0.,\n",
            "         0., 0., 0., 0., 0., 0.]], device='cuda:0')\n",
            "----------\n",
            "tensor([-6.6297, -7.1069, -7.0070, -7.3903, -8.0738, -8.0591, -7.6884, -7.9280,\n",
            "        -8.6906, -8.6025, -8.3501, -8.5653, -8.7015, -8.8462, -8.6166, -8.4699,\n",
            "        -8.8769, -8.6446, -8.4399, -8.3991, -8.3978, -8.2711, -7.5046, -7.7651,\n",
            "        -7.4693, -6.1752, -6.1594, -6.4206, -6.0096, -5.6893], device='cuda:0',\n",
            "       grad_fn=<SqueezeBackward3>)\n",
            "tensor([[0., 0., 0., 0., 0., 0., 0., 0., 0., 0., 0., 0., 0., 0., 0., 0., 0., 0., 0., 0., 0., 0., 0., 0.,\n",
            "         0., 0., 0., 0., 0., 0.]], device='cuda:0')\n",
            "----------\n",
            "tensor([-6.3513, -6.7801, -6.7225, -7.0660, -7.5458, -7.8144, -7.4003, -7.4175,\n",
            "        -8.4280, -8.4533, -8.4459, -8.5056, -8.8346, -8.9817, -8.4895, -8.6678,\n",
            "        -8.9460, -8.9741, -8.9899, -8.7609, -8.7937, -8.6765, -7.9401, -8.1681,\n",
            "        -7.7446, -6.3845, -5.8634, -6.1614, -5.9762, -5.5146], device='cuda:0',\n",
            "       grad_fn=<SqueezeBackward3>)\n",
            "tensor([[0., 0., 0., 0., 0., 0., 0., 0., 0., 0., 0., 0., 0., 0., 0., 0., 0., 0., 0., 0., 0., 0., 0., 0.,\n",
            "         0., 0., 0., 0., 0., 0.]], device='cuda:0')\n",
            "----------\n",
            "tensor([-3.5745, -3.5916, -3.3343, -3.5777, -3.8621, -4.0821, -3.4481, -3.3569,\n",
            "        -4.0531, -4.0425, -3.9739, -4.0304, -4.4704, -4.4679, -4.2415, -4.1164,\n",
            "        -4.2331, -4.2609, -4.3553, -3.9045, -3.9421, -3.6437, -2.9957, -3.0460,\n",
            "        -2.8473, -1.4514, -1.1692, -1.4365, -1.3051, -1.1311], device='cuda:0',\n",
            "       grad_fn=<SqueezeBackward3>)\n",
            "tensor([[0., 0., 0., 0., 0., 0., 0., 0., 0., 0., 0., 0., 0., 0., 0., 0., 0., 0., 0., 0., 0., 0., 0., 0.,\n",
            "         0., 0., 0., 0., 0., 0.]], device='cuda:0')\n",
            "----------\n",
            "tensor([-0.2395, -0.0460,  0.0037, -0.2707, -0.2914, -0.7128, -0.3018, -0.5220,\n",
            "        -0.9715, -0.9930, -0.7303, -1.3248, -1.6370, -1.6030, -1.4781, -1.4111,\n",
            "        -1.0054, -1.5720, -1.5652, -1.1067, -0.7921, -0.8750, -0.2579, -0.5428,\n",
            "        -0.2011,  1.2343,  1.4117,  0.8993,  1.2101,  1.0161], device='cuda:0',\n",
            "       grad_fn=<SqueezeBackward3>)\n",
            "tensor([[0., 0., 0., 0., 0., 0., 0., 0., 0., 0., 0., 0., 0., 0., 0., 0., 0., 0., 0., 0., 0., 0., 0., 0.,\n",
            "         0., 0., 0., 0., 0., 0.]], device='cuda:0')\n",
            "----------\n",
            "tensor([2.0341, 2.1944, 2.3065, 2.2504, 2.3106, 1.9966, 2.1359, 1.8645, 1.6443,\n",
            "        1.6110, 2.4320, 1.8590, 1.7464, 1.5947, 1.8764, 1.7386, 1.7618, 1.6786,\n",
            "        1.8227, 1.8471, 2.4529, 2.2591, 2.5545, 2.4961, 2.5430, 3.3722, 3.2202,\n",
            "        2.5871, 2.8184, 2.6396], device='cuda:0', grad_fn=<SqueezeBackward3>)\n",
            "tensor([[0., 0., 0., 0., 0., 0., 0., 0., 0., 0., 0., 0., 0., 0., 0., 0., 0., 0., 0., 0., 0., 0., 0., 0.,\n",
            "         0., 0., 0., 0., 0., 0.]], device='cuda:0')\n",
            "----------\n",
            "tensor([ 0.4080,  0.3132,  0.3767,  0.3231,  0.2389, -0.1237, -0.2983, -0.5098,\n",
            "        -0.7173, -0.6060, -0.2030, -0.3797, -0.6092, -0.3306, -0.4611, -0.5893,\n",
            "        -0.3346, -0.5765, -0.5103, -0.2655, -0.2862, -0.2382,  0.2038,  0.1891,\n",
            "         0.1484,  0.7867,  0.7359,  0.5048,  0.6454,  0.8137], device='cuda:0',\n",
            "       grad_fn=<SqueezeBackward3>)\n",
            "tensor([[0., 0., 0., 0., 0., 0., 0., 0., 0., 0., 0., 0., 0., 0., 0., 0., 0., 0.,\n",
            "         0., 0., 0., 1., 1., 1., 1., 1., 1., 1., 1., 1.]], device='cuda:0')\n",
            "----------\n",
            "tensor([-1.4721, -1.4272, -0.9987, -1.0205, -1.4265, -1.4764, -1.5278, -1.5625,\n",
            "        -2.1612, -1.4598, -1.0504, -1.4872, -1.6121, -1.5413, -1.6085, -2.1352,\n",
            "        -1.9658, -1.9509, -2.1346, -1.6739, -1.4075, -1.3942, -1.1453, -1.0290,\n",
            "        -1.1128, -0.1688, -0.2329, -0.3177,  0.0946,  0.2019], device='cuda:0',\n",
            "       grad_fn=<SqueezeBackward3>)\n",
            "tensor([[1., 1., 1., 1., 1., 1., 1., 1., 1., 1., 1., 1., 1., 1., 1., 1., 1., 1.,\n",
            "         1., 1., 1., 1., 1., 1., 1., 1., 1., 1., 1., 1.]], device='cuda:0')\n",
            "----------\n",
            "tensor([-0.7518, -0.6431, -0.5980, -0.4529, -0.6374, -0.9906, -1.2447, -1.4703,\n",
            "        -1.6978, -0.9653, -0.7648, -1.1929, -1.3932, -1.4166, -1.3685, -1.5885,\n",
            "        -1.2615, -1.4465, -1.3016, -0.9004, -0.9472, -0.5722, -0.1793, -0.1465,\n",
            "        -0.4207,  0.8127,  0.7208,  0.9113,  1.5466,  1.4206], device='cuda:0',\n",
            "       grad_fn=<SqueezeBackward3>)\n",
            "tensor([[1., 1., 1., 1., 1., 1., 1., 1., 1., 1., 1., 1., 1., 1., 1., 1., 1., 1.,\n",
            "         1., 1., 1., 1., 1., 1., 1., 1., 1., 1., 1., 1.]], device='cuda:0')\n",
            "----------\n",
            "tensor([1.7715, 2.1861, 2.1691, 2.1396, 2.1034, 1.8789, 1.6029, 1.3347, 1.1487,\n",
            "        1.5317, 1.8270, 1.3811, 1.1993, 0.8927, 1.0761, 1.0418, 1.0707, 0.9304,\n",
            "        0.9197, 1.1708, 1.1896, 1.2645, 1.6582, 1.9624, 1.7826, 2.2688, 2.1185,\n",
            "        2.1429, 2.3143, 2.3590], device='cuda:0', grad_fn=<SqueezeBackward3>)\n",
            "tensor([[1., 1., 1., 1., 1., 1., 1., 1., 1., 1., 1., 1., 1., 1., 1., 1., 1., 1.,\n",
            "         1., 1., 1., 1., 1., 1., 1., 1., 1., 1., 1., 1.]], device='cuda:0')\n",
            "----------\n",
            "tensor([2.4214, 2.7308, 2.8154, 2.9017, 2.9646, 2.6313, 2.5683, 2.4824, 2.1289,\n",
            "        2.5400, 2.8609, 2.5457, 2.4361, 2.3142, 2.2641, 2.1168, 2.3863, 2.1111,\n",
            "        2.1171, 2.4731, 2.6122, 2.5855, 2.8829, 3.1548, 3.0125, 3.5638, 3.3047,\n",
            "        3.1407, 3.3120, 3.4119], device='cuda:0', grad_fn=<SqueezeBackward3>)\n",
            "tensor([[1., 1., 1., 1., 1., 1., 1., 1., 1., 1., 1., 1., 1., 1., 1., 1., 1., 1.,\n",
            "         1., 1., 1., 1., 1., 1., 1., 1., 1., 1., 1., 1.]], device='cuda:0')\n",
            "----------\n",
            "tensor([2.6270, 2.8922, 3.0657, 3.1680, 3.2409, 3.0176, 2.8879, 2.7520, 2.5412,\n",
            "        2.8359, 3.3162, 2.9168, 2.8930, 2.9099, 2.6551, 2.6035, 2.9930, 2.9393,\n",
            "        2.7914, 3.0701, 3.3189, 3.1699, 3.4515, 3.5141, 3.4186, 4.0651, 3.8620,\n",
            "        3.5268, 3.6841, 3.6524], device='cuda:0', grad_fn=<SqueezeBackward3>)\n",
            "tensor([[1., 1., 1., 1., 1., 1., 1., 1., 1., 1., 1., 1., 1., 1., 1., 1., 1., 1.,\n",
            "         1., 1., 1., 1., 1., 1., 1., 1., 1., 1., 1., 1.]], device='cuda:0')\n",
            "----------\n",
            "tensor([2.0997, 2.2992, 2.3687, 2.4071, 2.4265, 2.1152, 2.2393, 2.1122, 1.7458,\n",
            "        2.0228, 2.3946, 1.9387, 1.9388, 1.8298, 1.8614, 1.5291, 1.7883, 1.5757,\n",
            "        1.5324, 1.9505, 2.1517, 2.1029, 2.5242, 2.5525, 2.5220, 3.3511, 3.1669,\n",
            "        2.7000, 2.9421, 2.9931], device='cuda:0', grad_fn=<SqueezeBackward3>)\n",
            "tensor([[1., 1., 1., 1., 1., 1., 1., 1., 1., 1., 1., 1., 1., 1., 1., 1., 1., 1.,\n",
            "         1., 1., 1., 1., 1., 1., 1., 1., 1., 1., 1., 1.]], device='cuda:0')\n",
            "----------\n",
            "tensor([3.1875, 3.3320, 3.4570, 3.4646, 3.4947, 3.1626, 3.4216, 3.0835, 2.9714,\n",
            "        3.0503, 3.5947, 3.1108, 2.9697, 3.0912, 3.1014, 2.8144, 2.9284, 2.8160,\n",
            "        2.6037, 3.0693, 3.2334, 3.0379, 3.3213, 3.2582, 3.3754, 3.8849, 3.6634,\n",
            "        3.0959, 3.4851, 3.3513], device='cuda:0', grad_fn=<SqueezeBackward3>)\n",
            "tensor([[1., 1., 1., 1., 1., 1., 1., 1., 1., 1., 1., 1., 1., 1., 1., 1., 1., 1.,\n",
            "         1., 1., 1., 1., 1., 1., 1., 1., 1., 1., 1., 1.]], device='cuda:0')\n",
            "----------\n",
            "tensor([ 2.2352e+00,  2.6920e+00,  2.3004e+00,  2.3717e+00,  2.3445e+00,\n",
            "         1.5818e+00,  1.3247e+00,  1.2432e+00,  1.3738e+00,  6.7811e-01,\n",
            "         1.0584e+00,  9.9064e-01,  7.1300e-01,  5.8033e-01, -7.0409e-03,\n",
            "        -6.8302e-02,  1.7325e-01,  7.8282e-02, -1.6823e-01, -6.1202e-02,\n",
            "        -1.7434e-01, -1.0235e-03,  3.0702e-01, -2.4135e-01, -2.5868e-04,\n",
            "         1.2124e+00,  7.7459e-01,  3.1293e-01,  7.6467e-01,  5.5585e-01],\n",
            "       device='cuda:0', grad_fn=<SqueezeBackward3>)\n",
            "tensor([[1., 1., 1., 1., 1., 1., 1., 1., 1., 1., 1., 1., 1., 1., 0., 0., 0., 0.,\n",
            "         0., 0., 0., 0., 0., 0., 0., 0., 0., 0., 0., 0.]], device='cuda:0')\n",
            "----------\n",
            "tensor([-0.0384, -0.0810, -0.5568, -0.5924, -0.8270, -1.4351, -1.9055, -2.3112,\n",
            "        -2.5036, -2.9015, -2.8874, -3.2958, -3.0590, -3.7364, -3.9497, -4.0986,\n",
            "        -4.0800, -4.4457, -4.8543, -4.2849, -4.6212, -4.7479, -4.1908, -4.4757,\n",
            "        -4.0609, -2.3658, -2.7001, -3.2186, -3.0205, -2.7414], device='cuda:0',\n",
            "       grad_fn=<SqueezeBackward3>)\n",
            "tensor([[0., 0., 0., 0., 0., 0., 0., 0., 0., 0., 0., 0., 0., 0., 0., 0., 0., 0., 0., 0., 0., 0., 0., 0.,\n",
            "         0., 0., 0., 0., 0., 0.]], device='cuda:0')\n",
            "----------\n",
            "tensor([ 0.0147,  0.5148,  0.3425,  0.1423, -0.1363, -0.4432, -0.7584, -1.3255,\n",
            "        -1.3922, -1.4653, -1.5312, -1.8527, -2.0217, -2.2855, -2.6838, -2.7673,\n",
            "        -2.6391, -2.9637, -3.1230, -2.5506, -2.8865, -3.0852, -2.3120, -2.7014,\n",
            "        -2.3247, -0.5691, -1.2212, -1.6513, -1.4924, -1.0163], device='cuda:0',\n",
            "       grad_fn=<SqueezeBackward3>)\n",
            "tensor([[0., 0., 0., 0., 0., 0., 0., 0., 0., 0., 0., 0., 0., 0., 0., 0., 0., 0., 0., 0., 0., 0., 0., 0.,\n",
            "         0., 0., 0., 0., 0., 0.]], device='cuda:0')\n",
            "----------\n",
            "tensor([-0.4308, -0.2424, -0.6423, -0.6559, -0.9467, -1.5104, -2.2190, -2.7536,\n",
            "        -3.0534, -3.2953, -3.3148, -3.7117, -3.6864, -4.5812, -4.5801, -4.9455,\n",
            "        -5.0066, -5.3982, -5.4769, -5.2065, -5.6820, -5.7825, -5.3769, -5.5915,\n",
            "        -5.4937, -3.7195, -3.8394, -4.5398, -4.2286, -3.9317], device='cuda:0',\n",
            "       grad_fn=<SqueezeBackward3>)\n",
            "tensor([[0., 0., 0., 0., 0., 0., 0., 0., 0., 0., 0., 0., 0., 0., 0., 0., 0., 0., 0., 0., 0., 0., 0., 0.,\n",
            "         0., 0., 0., 0., 0., 0.]], device='cuda:0')\n",
            "----------\n",
            "tensor([-2.0167, -2.1754, -2.6095, -2.5480, -2.9021, -3.2461, -4.3120, -4.4275,\n",
            "        -5.0877, -5.2377, -5.3865, -5.7444, -5.6127, -5.7388, -6.0998, -6.5752,\n",
            "        -6.5218, -6.7786, -7.1061, -6.8798, -7.2899, -7.4275, -7.3064, -7.0769,\n",
            "        -7.2854, -5.6304, -5.3029, -5.8512, -5.6001, -5.5550], device='cuda:0',\n",
            "       grad_fn=<SqueezeBackward3>)\n",
            "tensor([[0., 0., 0., 0., 0., 0., 0., 0., 0., 0., 0., 0., 0., 0., 0., 0., 0., 0., 0., 0., 0., 0., 0., 0.,\n",
            "         0., 0., 0., 0., 0., 0.]], device='cuda:0')\n",
            "----------\n",
            "tensor([-3.8564, -4.1674, -4.5710, -4.6600, -5.2634, -5.0936, -5.9401, -6.1340,\n",
            "        -6.6319, -6.6911, -6.9360, -7.2192, -6.7994, -7.1122, -7.0623, -7.4943,\n",
            "        -7.6690, -7.7819, -7.8566, -7.5934, -7.8614, -8.0222, -7.7316, -7.6354,\n",
            "        -7.6373, -6.1652, -5.9322, -6.1140, -5.9156, -5.7904], device='cuda:0',\n",
            "       grad_fn=<SqueezeBackward3>)\n",
            "tensor([[0., 0., 0., 0., 0., 0., 0., 0., 0., 0., 0., 0., 0., 0., 0., 0., 0., 0., 0., 0., 0., 0., 0., 0.,\n",
            "         0., 0., 0., 0., 0., 0.]], device='cuda:0')\n",
            "----------\n",
            "tensor([-3.4135, -3.6331, -3.8710, -4.0098, -4.5310, -4.5209, -4.7654, -4.6564,\n",
            "        -5.5162, -5.5266, -5.5345, -5.5795, -5.1529, -5.6077, -5.2301, -5.2887,\n",
            "        -5.3956, -5.4051, -5.5442, -5.5317, -5.6787, -5.7031, -5.4400, -5.3782,\n",
            "        -5.1707, -3.8420, -3.5912, -3.4476, -3.2710, -3.1277], device='cuda:0',\n",
            "       grad_fn=<SqueezeBackward3>)\n",
            "tensor([[0., 0., 0., 0., 0., 0., 0., 0., 0., 0., 0., 0., 0., 0., 0., 0., 0., 0., 0., 0., 0., 0., 0., 0.,\n",
            "         0., 0., 0., 0., 0., 0.]], device='cuda:0')\n",
            "----------\n",
            "tensor([-2.6259, -2.6920, -2.9670, -2.5759, -3.3357, -3.5375, -3.6754, -3.4200,\n",
            "        -4.1652, -4.0852, -4.3140, -4.2938, -3.9965, -3.9508, -4.0934, -4.5098,\n",
            "        -3.9217, -4.5161, -4.6731, -4.2000, -4.5012, -4.4327, -4.1905, -4.0571,\n",
            "        -3.8996, -3.2037, -2.9933, -3.0028, -2.2958, -2.2316], device='cuda:0',\n",
            "       grad_fn=<SqueezeBackward3>)\n",
            "tensor([[0., 0., 0., 0., 0., 0., 0., 0., 0., 0., 0., 0., 0., 0., 0., 0., 0., 0., 0., 0., 0., 0., 0., 0.,\n",
            "         0., 0., 0., 0., 0., 0.]], device='cuda:0')\n",
            "----------\n",
            "tensor([-3.8701, -3.8303, -3.9226, -3.4643, -4.1931, -4.1283, -3.4935, -3.6973,\n",
            "        -4.2654, -3.5696, -2.9887, -3.3191, -3.1202, -3.3278, -3.2032, -3.6453,\n",
            "        -3.0249, -3.1596, -3.3776, -2.8667, -2.5335, -2.4118, -1.7552, -1.6233,\n",
            "        -1.2915, -0.0400, -0.0809,  0.2953,  1.0040,  0.8884], device='cuda:0',\n",
            "       grad_fn=<SqueezeBackward3>)\n",
            "tensor([[0., 0., 0., 0., 0., 0., 0., 0., 0., 0., 0., 0., 0., 0., 0., 0., 0., 0., 0., 0., 0., 0., 0., 0.,\n",
            "         0., 0., 0., 0., 0., 0.]], device='cuda:0')\n",
            "----------\n",
            "tensor([-7.6751, -7.6800, -7.1739, -7.8855, -8.0651, -7.9993, -7.6531, -8.2340,\n",
            "        -8.8947, -8.2067, -7.3561, -7.9130, -7.6065, -7.9681, -7.4827, -8.4105,\n",
            "        -7.7652, -7.4768, -7.9633, -6.7036, -6.6194, -6.5918, -5.7434, -5.2860,\n",
            "        -5.3912, -3.4684, -3.1783, -2.8950, -1.2470, -1.6121], device='cuda:0',\n",
            "       grad_fn=<SqueezeBackward3>)\n",
            "tensor([[0., 0., 0., 0., 0., 0., 0., 0., 0., 0., 0., 0., 0., 0., 0., 0., 0., 0., 0., 0., 0., 0., 0., 0.,\n",
            "         0., 0., 0., 0., 0., 0.]], device='cuda:0')\n",
            "----------\n"
          ]
        }
      ]
    },
    {
      "cell_type": "code",
      "source": [
        "batch = next(iter(My_Dataloader_Train))\n",
        "image_list, label_list = batch"
      ],
      "metadata": {
        "id": "LUsiCdc3PyTA"
      },
      "execution_count": null,
      "outputs": []
    },
    {
      "cell_type": "code",
      "source": [
        "for counter in range(len(image_list)):\n",
        "    image = image_list[counter]\n",
        "    label = label_list[counter]\n",
        "    image = image.to(device)\n",
        "    label = label.to(device)\n",
        "    output_model = model(image.float())\n",
        "    print(output_model) \n",
        "    print(label) \n",
        "    print('-' * 10) "
      ],
      "metadata": {
        "colab": {
          "base_uri": "https://localhost:8080/"
        },
        "id": "OIa-2J1oP67X",
        "outputId": "5a8b3ee9-9eac-494b-a984-6ff8f18e1e93"
      },
      "execution_count": null,
      "outputs": [
        {
          "output_type": "stream",
          "name": "stdout",
          "text": [
            "tensor([-7.0676, -6.9159, -7.0214, -7.3953, -7.6123, -7.7372, -7.1430, -7.4089,\n",
            "        -8.0728, -7.6097, -7.0896, -7.0992, -7.0361, -7.2979, -6.3645, -6.8053,\n",
            "        -6.7272, -6.5897, -7.0264, -5.8617, -5.6859, -5.6786, -5.5473, -5.8920,\n",
            "        -5.8649, -3.6005, -2.9389, -3.3024, -1.9005, -1.9478], device='cuda:0',\n",
            "       grad_fn=<SqueezeBackward3>)\n",
            "tensor([[0., 0., 0., 0., 0., 0., 0., 0., 0., 0., 0., 0., 0., 0., 0., 0., 0., 0., 0., 0., 0., 0., 0., 0.,\n",
            "         0., 0., 0., 0., 0., 0.]], device='cuda:0')\n",
            "----------\n",
            "tensor([-7.1233, -6.7311, -7.0100, -7.4414, -7.7579, -8.2631, -7.5404, -8.4887,\n",
            "        -8.9249, -8.4200, -8.0154, -8.2221, -8.1836, -8.6935, -8.6444, -8.8666,\n",
            "        -8.3381, -8.2702, -9.0869, -7.8987, -7.9513, -8.0632, -7.9188, -7.9375,\n",
            "        -7.8333, -5.5209, -5.4161, -5.9098, -4.0503, -4.1930], device='cuda:0',\n",
            "       grad_fn=<SqueezeBackward3>)\n",
            "tensor([[0., 0., 0., 0., 0., 0., 0., 0., 0., 0., 0., 0., 0., 0., 0., 0., 0., 0., 0., 0., 0., 0., 0., 0.,\n",
            "         0., 0., 0., 0., 0., 0.]], device='cuda:0')\n",
            "----------\n",
            "tensor([-6.5832, -6.9159, -6.7037, -7.0420, -6.9958, -7.4071, -6.6080, -7.1089,\n",
            "        -7.4656, -6.9074, -6.4827, -6.9192, -6.6461, -7.0083, -6.6658, -6.6015,\n",
            "        -6.3792, -6.3027, -6.3389, -5.5119, -5.6035, -5.2980, -5.3343, -5.2613,\n",
            "        -5.1378, -3.1614, -2.1174, -2.4441, -1.1434, -1.0854], device='cuda:0',\n",
            "       grad_fn=<SqueezeBackward3>)\n",
            "tensor([[0., 0., 0., 0., 0., 0., 0., 0., 0., 0., 0., 0., 0., 0., 0., 0., 0., 0., 0., 0., 0., 0., 0., 0.,\n",
            "         0., 0., 0., 0., 0., 0.]], device='cuda:0')\n",
            "----------\n",
            "tensor([-0.0122,  0.4199, -0.0205,  0.5090,  0.4820,  0.3584,  0.9308,  0.4590,\n",
            "        -0.0417,  0.7340,  1.2485,  1.0845,  1.1034,  1.0028,  1.0877,  0.8401,\n",
            "         1.2752,  0.9765,  1.1781,  1.7812,  2.0834,  1.9237,  1.8962,  1.9767,\n",
            "         2.0149,  2.8049,  2.5795,  2.5415,  3.2601,  3.2213], device='cuda:0',\n",
            "       grad_fn=<SqueezeBackward3>)\n",
            "tensor([[0., 0., 0., 0., 0., 0., 0., 0., 0., 0., 0., 0., 0., 0., 0., 0., 0., 0., 0., 0., 0., 0., 0., 0.,\n",
            "         0., 0., 0., 0., 0., 0.]], device='cuda:0')\n",
            "----------\n",
            "tensor([0.7106, 1.3026, 1.0848, 1.2023, 1.3142, 1.0800, 1.7028, 1.2440, 0.8328,\n",
            "        1.2417, 1.7074, 1.5846, 1.4672, 1.4072, 1.3523, 1.3333, 1.9459, 1.4798,\n",
            "        1.6108, 2.0686, 2.4815, 2.2833, 2.3674, 2.4541, 2.3935, 3.1332, 2.8183,\n",
            "        2.6259, 3.1233, 2.9488], device='cuda:0', grad_fn=<SqueezeBackward3>)\n",
            "tensor([[0., 0., 0., 0., 0., 0., 0., 0., 0., 0., 0., 0., 0., 0., 0., 0., 0., 0., 0., 0., 0., 0., 0., 0.,\n",
            "         0., 0., 0., 0., 0., 0.]], device='cuda:0')\n",
            "----------\n",
            "tensor([0.7862, 1.2212, 1.1190, 1.3375, 1.3127, 1.1897, 1.9526, 1.4531, 1.2416,\n",
            "        1.6186, 2.2349, 1.9408, 2.0216, 1.8035, 1.9855, 1.8936, 2.3287, 2.3074,\n",
            "        2.1935, 2.7330, 3.1187, 2.9265, 3.1532, 2.9790, 3.1840, 3.9059, 3.8391,\n",
            "        3.2387, 3.8528, 3.6810], device='cuda:0', grad_fn=<SqueezeBackward3>)\n",
            "tensor([[0., 0., 0., 0., 0., 0., 0., 0., 0., 0., 0., 0., 0., 0., 0., 0., 0., 0., 0., 0., 0., 0., 0., 0.,\n",
            "         0., 0., 0., 0., 0., 0.]], device='cuda:0')\n",
            "----------\n",
            "tensor([-2.6882, -1.8485, -1.9377, -1.8572, -2.0987, -1.9806, -1.2366, -1.5019,\n",
            "        -1.8661, -1.4255, -0.8972, -1.2699, -1.2018, -1.6548, -1.1533, -1.4024,\n",
            "        -1.2516, -1.0589, -1.0592, -0.2058,  0.2013,  0.1164,  0.3981,  0.0993,\n",
            "        -0.0844,  1.3474,  1.3510,  0.9036,  2.1316,  1.8492], device='cuda:0',\n",
            "       grad_fn=<SqueezeBackward3>)\n",
            "tensor([[0., 0., 0., 0., 0., 0., 0., 0., 0., 0., 0., 0., 0., 0., 0., 0., 0., 0., 0., 0., 0., 0., 0., 0.,\n",
            "         0., 0., 0., 0., 0., 0.]], device='cuda:0')\n",
            "----------\n",
            "tensor([0.5437, 0.9593, 0.8768, 1.0820, 1.3046, 1.0404, 1.6179, 1.3280, 1.0902,\n",
            "        1.7495, 2.2289, 1.9384, 1.7019, 1.4822, 1.6383, 1.4978, 2.2128, 2.0732,\n",
            "        2.2132, 2.7574, 3.0609, 2.9866, 3.2700, 3.1028, 3.3027, 4.5485, 4.2673,\n",
            "        4.1805, 4.8627, 4.8741], device='cuda:0', grad_fn=<SqueezeBackward3>)\n",
            "tensor([[0., 0., 0., 0., 0., 0., 0., 0., 0., 0., 0., 0., 0., 0., 0., 0., 0., 0., 0., 0., 0., 0., 0., 0.,\n",
            "         0., 0., 0., 0., 0., 0.]], device='cuda:0')\n",
            "----------\n",
            "tensor([3.0722, 3.9739, 3.6285, 3.8763, 4.3775, 3.9964, 4.3344, 4.0279, 4.3076,\n",
            "        4.7563, 5.1144, 4.7166, 4.4722, 4.5077, 4.3522, 4.4433, 4.7383, 4.7839,\n",
            "        4.9882, 5.2221, 5.4854, 5.4251, 5.4457, 5.2847, 5.3763, 6.0728, 5.6031,\n",
            "        5.1918, 5.7202, 5.6784], device='cuda:0', grad_fn=<SqueezeBackward3>)\n",
            "tensor([[1., 1., 1., 1., 1., 1., 1., 1., 1., 1., 1., 1., 1., 1., 1., 1., 1., 1.,\n",
            "         1., 1., 1., 1., 1., 1., 1., 1., 1., 1., 1., 1.]], device='cuda:0')\n",
            "----------\n",
            "tensor([4.7845, 5.9748, 6.1698, 6.4705, 6.3861, 6.2259, 5.9118, 5.4683, 5.5474,\n",
            "        6.0362, 6.5234, 6.0608, 5.9641, 5.7828, 5.4861, 5.3743, 5.5807, 5.2000,\n",
            "        5.1634, 5.6824, 5.6986, 5.7262, 5.6528, 5.9912, 5.7359, 6.3251, 5.8826,\n",
            "        5.5065, 5.7937, 5.8999], device='cuda:0', grad_fn=<SqueezeBackward3>)\n",
            "tensor([[1., 1., 1., 1., 1., 1., 1., 1., 1., 1., 1., 1., 1., 1., 1., 1., 1., 1.,\n",
            "         1., 1., 1., 1., 1., 1., 1., 1., 1., 1., 1., 1.]], device='cuda:0')\n",
            "----------\n",
            "tensor([4.9317, 6.2338, 6.3068, 6.4879, 6.4488, 6.3672, 5.9223, 5.6735, 5.8315,\n",
            "        6.4506, 6.8438, 6.5283, 6.1351, 5.9801, 5.7163, 5.6859, 5.6741, 5.4817,\n",
            "        5.5549, 6.1126, 6.2037, 6.0580, 6.0395, 6.2811, 6.0580, 6.7626, 6.1016,\n",
            "        6.0369, 6.2155, 5.9629], device='cuda:0', grad_fn=<SqueezeBackward3>)\n",
            "tensor([[1., 1., 1., 1., 1., 1., 1., 1., 1., 1., 1., 1., 1., 1., 1., 1., 1., 1.,\n",
            "         1., 1., 1., 1., 1., 1., 1., 1., 1., 1., 1., 1.]], device='cuda:0')\n",
            "----------\n",
            "tensor([6.4341, 7.6761, 7.2098, 7.1286, 7.3384, 6.5854, 6.4521, 6.2918, 6.3792,\n",
            "        6.6439, 6.6959, 6.6853, 6.0615, 6.0769, 5.2211, 5.7324, 5.6255, 5.3493,\n",
            "        5.2613, 5.5361, 5.7338, 5.2713, 5.5746, 5.7326, 5.6448, 6.1922, 4.7355,\n",
            "        4.8051, 5.1266, 4.7412], device='cuda:0', grad_fn=<SqueezeBackward3>)\n",
            "tensor([[1., 1., 1., 1., 1., 1., 1., 1., 1., 1., 1., 1., 1., 1., 1., 1., 1., 1.,\n",
            "         1., 1., 1., 1., 1., 1., 1., 1., 1., 1., 1., 1.]], device='cuda:0')\n",
            "----------\n",
            "tensor([ 1.9476,  2.4705,  2.0660,  2.3490,  2.1228,  1.1679,  1.0499,  1.1112,\n",
            "         0.9306,  0.5623,  0.1943,  0.6735, -0.2736, -0.6359, -1.2843, -1.2565,\n",
            "        -1.5275, -2.2373, -2.4037, -1.9751, -2.1832, -2.2138, -1.8880, -2.0975,\n",
            "        -1.6813, -0.2195, -1.4436, -2.0461, -1.5734, -1.4837], device='cuda:0',\n",
            "       grad_fn=<SqueezeBackward3>)\n",
            "tensor([[1., 1., 1., 1., 1., 1., 1., 1., 1., 1., 1., 1., 1., 0., 0., 0., 0., 0.,\n",
            "         0., 0., 0., 0., 0., 0., 0., 0., 0., 0., 0., 0.]], device='cuda:0')\n",
            "----------\n",
            "tensor([-0.2194, -0.0719, -0.2750, -0.4760, -0.5163, -1.4298, -1.3489, -1.3224,\n",
            "        -1.6825, -2.1272, -2.3023, -2.3224, -2.8880, -3.4036, -3.2440, -3.4468,\n",
            "        -3.4475, -4.6417, -4.4405, -4.0403, -4.3012, -4.4032, -3.6727, -4.1468,\n",
            "        -3.6833, -1.7279, -2.2286, -3.1745, -2.4260, -2.2373], device='cuda:0',\n",
            "       grad_fn=<SqueezeBackward3>)\n",
            "tensor([[0., 0., 0., 0., 0., 0., 0., 0., 0., 0., 0., 0., 0., 0., 0., 0., 0., 0., 0., 0., 0., 0., 0., 0.,\n",
            "         0., 0., 0., 0., 0., 0.]], device='cuda:0')\n",
            "----------\n",
            "tensor([ 0.4079,  0.9060,  0.7101,  0.7110,  0.4071, -0.3430, -0.5313, -0.9410,\n",
            "        -0.8342, -1.2435, -1.0659, -1.5708, -1.7036, -2.1376, -2.4165, -3.2442,\n",
            "        -3.2237, -3.8284, -3.7870, -3.4070, -4.0251, -3.8659, -3.2834, -3.7413,\n",
            "        -3.4642, -1.5000, -2.2164, -2.7906, -2.3605, -2.1033], device='cuda:0',\n",
            "       grad_fn=<SqueezeBackward3>)\n",
            "tensor([[0., 0., 0., 0., 0., 0., 0., 0., 0., 0., 0., 0., 0., 0., 0., 0., 0., 0., 0., 0., 0., 0., 0., 0.,\n",
            "         0., 0., 0., 0., 0., 0.]], device='cuda:0')\n",
            "----------\n",
            "tensor([-1.6561, -0.9872, -1.2828, -1.3665, -2.1426, -2.7992, -3.1080, -3.6832,\n",
            "        -3.5643, -3.8954, -3.7847, -4.2425, -4.4257, -4.5916, -4.8259, -5.7108,\n",
            "        -5.9627, -6.3713, -6.5466, -5.6284, -6.4467, -6.0419, -5.1681, -6.2291,\n",
            "        -5.8902, -3.2571, -4.0042, -4.4193, -3.7208, -3.7965], device='cuda:0',\n",
            "       grad_fn=<SqueezeBackward3>)\n",
            "tensor([[0., 0., 0., 0., 0., 0., 0., 0., 0., 0., 0., 0., 0., 0., 0., 0., 0., 0., 0., 0., 0., 0., 0., 0.,\n",
            "         0., 0., 0., 0., 0., 0.]], device='cuda:0')\n",
            "----------\n",
            "tensor([-2.5356, -2.5273, -3.2646, -3.3900, -3.5358, -4.1290, -4.6192, -4.7904,\n",
            "        -5.1389, -5.3357, -5.4797, -5.6764, -5.6433, -6.0820, -5.9774, -6.5117,\n",
            "        -6.4394, -6.7544, -7.1846, -6.6025, -6.9665, -6.8888, -6.5222, -6.8676,\n",
            "        -6.7647, -4.8465, -4.4174, -4.6753, -4.1814, -4.3170], device='cuda:0',\n",
            "       grad_fn=<SqueezeBackward3>)\n",
            "tensor([[0., 0., 0., 0., 0., 0., 0., 0., 0., 0., 0., 0., 0., 0., 0., 0., 0., 0., 0., 0., 0., 0., 0., 0.,\n",
            "         0., 0., 0., 0., 0., 0.]], device='cuda:0')\n",
            "----------\n",
            "tensor([-3.5939, -3.7994, -3.9044, -3.8747, -4.3233, -4.5608, -4.0374, -4.0607,\n",
            "        -4.8908, -4.6266, -4.3710, -4.4830, -4.9198, -4.6926, -4.1588, -4.1087,\n",
            "        -3.9327, -4.2581, -4.1037, -3.6340, -3.5349, -3.0033, -2.5773, -2.9609,\n",
            "        -2.9652, -1.3510, -0.8854, -0.4604,  0.1786,  0.0793], device='cuda:0',\n",
            "       grad_fn=<SqueezeBackward3>)\n",
            "tensor([[0., 0., 0., 0., 0., 0., 0., 0., 0., 0., 0., 0., 0., 0., 0., 0., 0., 0., 0., 0., 0., 0., 0., 0.,\n",
            "         0., 0., 0., 0., 0., 0.]], device='cuda:0')\n",
            "----------\n"
          ]
        }
      ]
    },
    {
      "cell_type": "code",
      "source": [
        "len(image_list)"
      ],
      "metadata": {
        "colab": {
          "base_uri": "https://localhost:8080/"
        },
        "id": "Jc1RChdIRyFH",
        "outputId": "1f1b7e4f-395d-4f0a-b4ac-e3952cba5297"
      },
      "execution_count": null,
      "outputs": [
        {
          "output_type": "execute_result",
          "data": {
            "text/plain": [
              "7"
            ]
          },
          "metadata": {},
          "execution_count": 74
        }
      ]
    },
    {
      "cell_type": "code",
      "source": [
        "import matplotlib.pyplot as plt\n",
        "idx = 5\n",
        "image_data = np.asarray(nib.load(I_path_Train[idx]).dataobj)\n",
        "image_data_2 = image_data\n",
        "image_data_2[image_data_2 < -200] = -200\n",
        "image_data_2[image_data_2 > 250] = 250"
      ],
      "metadata": {
        "id": "W9YX-eIA_2Wh"
      },
      "execution_count": null,
      "outputs": []
    },
    {
      "cell_type": "code",
      "source": [
        "image_data.shape[2]"
      ],
      "metadata": {
        "colab": {
          "base_uri": "https://localhost:8080/"
        },
        "id": "2T_Bc68ZBsEK",
        "outputId": "e48a8471-0055-4545-a903-8e45c9523952"
      },
      "execution_count": null,
      "outputs": [
        {
          "output_type": "execute_result",
          "data": {
            "text/plain": [
              "537"
            ]
          },
          "metadata": {},
          "execution_count": 27
        }
      ]
    },
    {
      "cell_type": "code",
      "source": [
        "plt.imshow(image_data[:,:,image_data.shape[2]//2])"
      ],
      "metadata": {
        "colab": {
          "base_uri": "https://localhost:8080/",
          "height": 286
        },
        "id": "puoweSuDBjby",
        "outputId": "2cfa83b5-aff8-46aa-c192-d3daa1cfba4c"
      },
      "execution_count": null,
      "outputs": [
        {
          "output_type": "execute_result",
          "data": {
            "text/plain": [
              "<matplotlib.image.AxesImage at 0x7f82b87b5f40>"
            ]
          },
          "metadata": {},
          "execution_count": 28
        },
        {
          "output_type": "display_data",
          "data": {
            "text/plain": [
              "<Figure size 432x288 with 1 Axes>"
            ],
            "image/png": "[encoded data removed]"
          },
          "metadata": {
            "needs_background": "light"
          }
        }
      ]
    },
    {
      "cell_type": "code",
      "source": [
        "plt.imshow(image_data_2[:,:,image_data.shape[2]//2])"
      ],
      "metadata": {
        "colab": {
          "base_uri": "https://localhost:8080/",
          "height": 286
        },
        "id": "KekHEzWcCnCx",
        "outputId": "ce06af0d-3296-4307-a082-716d54f906d9"
      },
      "execution_count": null,
      "outputs": [
        {
          "output_type": "execute_result",
          "data": {
            "text/plain": [
              "<matplotlib.image.AxesImage at 0x7f825521ff40>"
            ]
          },
          "metadata": {},
          "execution_count": 31
        },
        {
          "output_type": "display_data",
          "data": {
            "text/plain": [
              "<Figure size 432x288 with 1 Axes>"
            ],
            "image/png": "[encoded data removed]"
          },
          "metadata": {
            "needs_background": "light"
          }
        }
      ]
    },
    {
      "cell_type": "code",
      "source": [
        "plt.hist(image_data[:,:,image_data.shape[2]//2])"
      ],
      "metadata": {
        "colab": {
          "base_uri": "https://localhost:8080/",
          "height": 439
        },
        "id": "HUJFt1JOCELL",
        "outputId": "7c6133cc-5301-4f15-a5d1-578ac9c8b448"
      },
      "execution_count": null,
      "outputs": [
        {
          "output_type": "execute_result",
          "data": {
            "text/plain": [
              "(array([[512.,   0.,   0., ...,   0.,   0.,   0.],\n",
              "        [512.,   0.,   0., ...,   0.,   0.,   0.],\n",
              "        [512.,   0.,   0., ...,   0.,   0.,   0.],\n",
              "        ...,\n",
              "        [512.,   0.,   0., ...,   0.,   0.,   0.],\n",
              "        [512.,   0.,   0., ...,   0.,   0.,   0.],\n",
              "        [512.,   0.,   0., ...,   0.,   0.,   0.]]),\n",
              " array([-1024. ,  -800.5,  -577. ,  -353.5,  -130. ,    93.5,   317. ,\n",
              "          540.5,   764. ,   987.5,  1211. ]),\n",
              " <a list of 512 Lists of Patches objects>)"
            ]
          },
          "metadata": {},
          "execution_count": 29
        },
        {
          "output_type": "display_data",
          "data": {
            "text/plain": [
              "<Figure size 432x288 with 1 Axes>"
            ],
            "image/png": "[encoded data removed]"
          },
          "metadata": {
            "needs_background": "light"
          }
        }
      ]
    },
    {
      "cell_type": "code",
      "source": [
        "plt.hist(image_data_2[:,:,image_data.shape[2]//2])"
      ],
      "metadata": {
        "colab": {
          "base_uri": "https://localhost:8080/",
          "height": 439
        },
        "id": "UT7Oq8-LCpCT",
        "outputId": "7fe62ab3-f8b2-49d1-815d-ffa87857ea5e"
      },
      "execution_count": null,
      "outputs": [
        {
          "output_type": "execute_result",
          "data": {
            "text/plain": [
              "(array([[512.,   0.,   0., ...,   0.,   0.,   0.],\n",
              "        [512.,   0.,   0., ...,   0.,   0.,   0.],\n",
              "        [512.,   0.,   0., ...,   0.,   0.,   0.],\n",
              "        ...,\n",
              "        [512.,   0.,   0., ...,   0.,   0.,   0.],\n",
              "        [512.,   0.,   0., ...,   0.,   0.,   0.],\n",
              "        [512.,   0.,   0., ...,   0.,   0.,   0.]]),\n",
              " array([-200., -155., -110.,  -65.,  -20.,   25.,   70.,  115.,  160.,\n",
              "         205.,  250.]),\n",
              " <a list of 512 Lists of Patches objects>)"
            ]
          },
          "metadata": {},
          "execution_count": 32
        },
        {
          "output_type": "display_data",
          "data": {
            "text/plain": [
              "<Figure size 432x288 with 1 Axes>"
            ],
            "image/png": "[encoded data removed]"
          },
          "metadata": {
            "needs_background": "light"
          }
        }
      ]
    },
    {
      "cell_type": "code",
      "source": [
        "loss = nn.BCEWithLogitsLoss()\n",
        "input = torch.randn(3, requires_grad=True)\n",
        "target = torch.empty(3).random_(2)\n",
        "input,target,loss(input, target),loss(target,input)"
      ],
      "metadata": {
        "colab": {
          "base_uri": "https://localhost:8080/"
        },
        "id": "AIJBfjg5rfp9",
        "outputId": "2cfa616c-a585-431a-a647-428413fe9997"
      },
      "execution_count": null,
      "outputs": [
        {
          "output_type": "execute_result",
          "data": {
            "text/plain": [
              "(tensor([-0.3712, -1.4745, -0.0658], requires_grad=True),\n",
              " tensor([0., 1., 1.]),\n",
              " tensor(0.9773, grad_fn=<BinaryCrossEntropyWithLogitsBackward0>),\n",
              " tensor(1.6200, grad_fn=<BinaryCrossEntropyWithLogitsBackward0>))"
            ]
          },
          "metadata": {},
          "execution_count": 101
        }
      ]
    }
  ],
  "metadata": {
    "accelerator": "GPU",
    "colab": {
      "collapsed_sections": [
        "J--q8IaT28LP",
        "cDLaZwkaoSE7"
      ],
      "provenance": [],
      "include_colab_link": true
    },
    "gpuClass": "standard",
    "kernelspec": {
      "display_name": "Python 3",
      "name": "python3"
    },
    "language_info": {
      "name": "python"
    }
  },
  "nbformat": 4,
  "nbformat_minor": 0
}